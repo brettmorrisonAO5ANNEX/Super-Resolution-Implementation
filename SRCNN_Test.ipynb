{
  "nbformat": 4,
  "nbformat_minor": 0,
  "metadata": {
    "colab": {
      "provenance": [],
      "collapsed_sections": [
        "Cgp_5yYyqbAk"
      ],
      "gpuType": "T4",
      "authorship_tag": "ABX9TyOK4kqjjzTa9Bq21oTixhFY",
      "include_colab_link": true
    },
    "kernelspec": {
      "name": "python3",
      "display_name": "Python 3"
    },
    "language_info": {
      "name": "python"
    },
    "accelerator": "GPU"
  },
  "cells": [
    {
      "cell_type": "markdown",
      "metadata": {
        "id": "view-in-github",
        "colab_type": "text"
      },
      "source": [
        "<a href=\"https://colab.research.google.com/github/brettmorrisonAO5ANNEX/Super-Resolution-Implementation/blob/main/SRCNN_Test.ipynb\" target=\"_parent\"><img src=\"https://colab.research.google.com/assets/colab-badge.svg\" alt=\"Open In Colab\"/></a>"
      ]
    },
    {
      "cell_type": "code",
      "execution_count": 2,
      "metadata": {
        "id": "D3Mg4kofp5G0"
      },
      "outputs": [],
      "source": [
        "import numpy as np\n",
        "import matplotlib.pyplot as plt\n",
        "from PIL import Image\n",
        "from sklearn.model_selection import train_test_split\n",
        "import tensorflow as tf\n",
        "from tensorflow.keras.layers import Conv2D\n",
        "from tensorflow.keras.models import Sequential\n",
        "from tensorflow.keras.optimizers import Adam\n",
        "from data import DIV2K"
      ]
    },
    {
      "cell_type": "markdown",
      "source": [
        "##Data Preprocessing"
      ],
      "metadata": {
        "id": "Cgp_5yYyqbAk"
      }
    },
    {
      "cell_type": "code",
      "source": [
        "from data import DIV2K\n",
        "\n",
        "train_loader = DIV2K(scale=4,             # 2, 3, 4 or 8\n",
        "                     downgrade='bicubic', # 'bicubic', 'unknown', 'mild' or 'difficult'\n",
        "                     subset='train')      # Training dataset are images 001 - 800\n",
        "\n",
        "# Create a tf.data.Dataset\n",
        "train_ds = train_loader.dataset(batch_size=16,         # batch size as described in the EDSR and WDSR papers\n",
        "                                random_transform=True, # random crop, flip, rotate as described in the EDSR paper\n",
        "                                repeat_count=None)     # repeat iterating over training images indefinitely\n",
        "\n",
        "# Iterate over LR/HR image pairs\n",
        "# for lr, hr in train_ds:\n",
        "    # ...."
      ],
      "metadata": {
        "id": "b_fACSv6qFuj"
      },
      "execution_count": null,
      "outputs": []
    },
    {
      "cell_type": "markdown",
      "source": [
        "##Creating The Model"
      ],
      "metadata": {
        "id": "0DBqRvtdqrCW"
      }
    },
    {
      "cell_type": "code",
      "source": [
        "# TODO"
      ],
      "metadata": {
        "id": "AL2eMZqtc8lv"
      },
      "execution_count": null,
      "outputs": []
    },
    {
      "cell_type": "markdown",
      "source": [
        "##Training & Evaluation"
      ],
      "metadata": {
        "id": "neJCwYcwdq6v"
      }
    },
    {
      "cell_type": "code",
      "source": [
        "# TODO"
      ],
      "metadata": {
        "id": "8aZfQtTkdz7D"
      },
      "execution_count": null,
      "outputs": []
    }
  ]
}