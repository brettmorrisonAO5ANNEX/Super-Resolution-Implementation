{
  "nbformat": 4,
  "nbformat_minor": 0,
  "metadata": {
    "colab": {
      "provenance": [],
      "collapsed_sections": [
        "Cgp_5yYyqbAk"
      ],
      "gpuType": "T4",
      "authorship_tag": "ABX9TyNeld9i4eA1qyi9P+Z6pDXa",
      "include_colab_link": true
    },
    "kernelspec": {
      "name": "python3",
      "display_name": "Python 3"
    },
    "language_info": {
      "name": "python"
    },
    "accelerator": "GPU"
  },
  "cells": [
    {
      "cell_type": "markdown",
      "metadata": {
        "id": "view-in-github",
        "colab_type": "text"
      },
      "source": [
        "<a href=\"https://colab.research.google.com/github/brettmorrisonAO5ANNEX/Super-Resolution-Implementation/blob/main/SRCNN_Test.ipynb\" target=\"_parent\"><img src=\"https://colab.research.google.com/assets/colab-badge.svg\" alt=\"Open In Colab\"/></a>"
      ]
    },
    {
      "cell_type": "code",
      "execution_count": null,
      "metadata": {
        "id": "D3Mg4kofp5G0"
      },
      "outputs": [],
      "source": [
        "import numpy as np\n",
        "import matplotlib.pyplot as plt\n",
        "import tensorflow as tf\n",
        "from data import DIV2K"
      ]
    },
    {
      "cell_type": "markdown",
      "source": [
        "# Data Preprocessing"
      ],
      "metadata": {
        "id": "Cgp_5yYyqbAk"
      }
    },
    {
      "cell_type": "markdown",
      "source": [
        "## Load Training Data"
      ],
      "metadata": {
        "id": "3MclmlZTzW7T"
      }
    },
    {
      "cell_type": "code",
      "source": [
        "train_loader = DIV2K(scale=4,             # 2, 3, 4 or 8\n",
        "                     downgrade='bicubic', # 'bicubic', 'unknown', 'mild' or 'difficult'\n",
        "                     subset='train')      # Training dataset are images 001 - 800\n",
        "\n",
        "# Create a tf.data.Dataset\n",
        "train_ds = train_loader.dataset(batch_size=16,         # batch size as described in the EDSR and WDSR papers\n",
        "                                random_transform=True, # random crop, flip, rotate as described in the EDSR paper\n",
        "                                repeat_count=None)     # repeat iterating over training images indefinitely"
      ],
      "metadata": {
        "id": "b_fACSv6qFuj"
      },
      "execution_count": null,
      "outputs": []
    },
    {
      "cell_type": "markdown",
      "source": [
        "## Load Validation Data"
      ],
      "metadata": {
        "id": "Whxsoyb1zaLa"
      }
    },
    {
      "cell_type": "code",
      "source": [
        "valid_loader = DIV2K(scale=4,             # 2, 3, 4 or 8\n",
        "                     downgrade='bicubic', # 'bicubic', 'unknown', 'mild' or 'difficult'\n",
        "                     subset='valid')      # Validation dataset are images 801 - 900\n",
        "\n",
        "# Create a tf.data.Dataset\n",
        "valid_ds = valid_loader.dataset(batch_size=1,           # use batch size of 1 as DIV2K images have different size\n",
        "                                random_transform=False, # use DIV2K images in original size\n",
        "                                repeat_count=1)         # 1 epoch"
      ],
      "metadata": {
        "id": "1CemI-uhzeJt"
      },
      "execution_count": null,
      "outputs": []
    },
    {
      "cell_type": "markdown",
      "source": [
        "# Creating The Model"
      ],
      "metadata": {
        "id": "0DBqRvtdqrCW"
      }
    },
    {
      "cell_type": "code",
      "source": [
        "def SRCNN():\n",
        "    model = Sequential()\n",
        "    # Patch extraction and representation\n",
        "    model.add(Conv2D(64, (9, 9), activation='relu', padding='same', input_shape=(None, None, 3)))\n",
        "    # Non-linear mapping\n",
        "    model.add(Conv2D(32, (1, 1), activation='relu', padding='same'))\n",
        "    # Reconstruction\n",
        "    model.add(Conv2D(3, (5, 5), activation='linear', padding='same'))\n",
        "    return model\n",
        "\n",
        "srcnn = SRCNN()\n",
        "srcnn.compile(optimizer='adam', loss='mean_squared_error', metrics=['accuracy'])"
      ],
      "metadata": {
        "id": "AL2eMZqtc8lv"
      },
      "execution_count": null,
      "outputs": []
    },
    {
      "cell_type": "markdown",
      "source": [
        "# Training & Evaluation"
      ],
      "metadata": {
        "id": "neJCwYcwdq6v"
      }
    },
    {
      "cell_type": "code",
      "source": [
        "history = srcnn.fit(train_dataset, epochs=50, validation_data=val_dataset)"
      ],
      "metadata": {
        "id": "8aZfQtTkdz7D"
      },
      "execution_count": null,
      "outputs": []
    },
    {
      "cell_type": "code",
      "source": [
        "loss, accuracy = srcnn.evaluate(val_dataset)\n",
        "print(f\"Validation Loss: {loss}, Validation Accuracy: {accuracy}\")"
      ],
      "metadata": {
        "id": "kb8dF8MMtRi1"
      },
      "execution_count": null,
      "outputs": []
    }
  ]
}