{
  "nbformat": 4,
  "nbformat_minor": 0,
  "metadata": {
    "colab": {
      "provenance": [],
      "collapsed_sections": [
        "Cgp_5yYyqbAk"
      ],
      "gpuType": "T4",
      "authorship_tag": "ABX9TyNaYNk5PQFBxluaVKObUj51",
      "include_colab_link": true
    },
    "kernelspec": {
      "name": "python3",
      "display_name": "Python 3"
    },
    "language_info": {
      "name": "python"
    },
    "accelerator": "GPU"
  },
  "cells": [
    {
      "cell_type": "markdown",
      "metadata": {
        "id": "view-in-github",
        "colab_type": "text"
      },
      "source": [
        "<a href=\"https://colab.research.google.com/github/brettmorrisonAO5ANNEX/Super-Resolution-Implementation/blob/main/SRCNN_Test.ipynb\" target=\"_parent\"><img src=\"https://colab.research.google.com/assets/colab-badge.svg\" alt=\"Open In Colab\"/></a>"
      ]
    },
    {
      "cell_type": "code",
      "execution_count": null,
      "metadata": {
        "id": "D3Mg4kofp5G0"
      },
      "outputs": [],
      "source": [
        "import tensorflow as tf\n",
        "\n",
        "from tensorflow.keras import datasets, layers, models\n",
        "import matplotlib.pyplot as plt"
      ]
    },
    {
      "cell_type": "markdown",
      "source": [
        "##Data Preprocessing"
      ],
      "metadata": {
        "id": "Cgp_5yYyqbAk"
      }
    },
    {
      "cell_type": "code",
      "source": [],
      "metadata": {
        "id": "b_fACSv6qFuj"
      },
      "execution_count": null,
      "outputs": []
    },
    {
      "cell_type": "markdown",
      "source": [
        "##Creating The Model"
      ],
      "metadata": {
        "id": "0DBqRvtdqrCW"
      }
    },
    {
      "cell_type": "code",
      "source": [
        "#make sure to initialize weights and biases based on paper's constraints\n",
        "\n",
        "model = models.Sequential()\n",
        "#patch extraction\n",
        "model.add(layers.Conv2D(64, (9, 9), activation='relu', input_shape=(33, 33, 3)),\n",
        "          padding='valid', use_bias=True)\n",
        "#non-linear mapping\n",
        "model.add(layers.Conv2D(32, (1, 1), activation='relu'),\n",
        "          padding='valid',use_bias=True)\n",
        "#reconstruction (filters=3 for RGB channels)\n",
        "model.add(layers.Conv2D(3, (5, 5)),\n",
        "          padding='valid', use_bias=True)"
      ],
      "metadata": {
        "id": "ySN7vKztquiQ"
      },
      "execution_count": null,
      "outputs": []
    }
  ]
}