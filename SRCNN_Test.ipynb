{
  "nbformat": 4,
  "nbformat_minor": 0,
  "metadata": {
    "colab": {
      "provenance": [],
      "collapsed_sections": [
        "Cgp_5yYyqbAk"
      ],
      "gpuType": "T4",
      "authorship_tag": "ABX9TyPJYqcBsIvfiwzC6DgCngpA",
      "include_colab_link": true
    },
    "kernelspec": {
      "name": "python3",
      "display_name": "Python 3"
    },
    "language_info": {
      "name": "python"
    },
    "accelerator": "GPU"
  },
  "cells": [
    {
      "cell_type": "markdown",
      "metadata": {
        "id": "view-in-github",
        "colab_type": "text"
      },
      "source": [
        "<a href=\"https://colab.research.google.com/github/brettmorrisonAO5ANNEX/Super-Resolution-Implementation/blob/main/SRCNN_Test.ipynb\" target=\"_parent\"><img src=\"https://colab.research.google.com/assets/colab-badge.svg\" alt=\"Open In Colab\"/></a>"
      ]
    },
    {
      "cell_type": "code",
      "execution_count": 1,
      "metadata": {
        "id": "D3Mg4kofp5G0"
      },
      "outputs": [],
      "source": [
        "import numpy as np\n",
        "import matplotlib.pyplot as plt\n",
        "from PIL import Image\n",
        "from sklearn.model_selection import train_test_split\n",
        "import tensorflow as tf\n",
        "from tensorflow.keras.layers import Conv2D\n",
        "from tensorflow.keras.models import Sequential\n",
        "from tensorflow.keras.optimizers import Adam"
      ]
    },
    {
      "cell_type": "markdown",
      "source": [
        "##Data Preprocessing"
      ],
      "metadata": {
        "id": "Cgp_5yYyqbAk"
      }
    },
    {
      "cell_type": "code",
      "source": [
        "def load_image(image_path):\n",
        "    return Image.open(image_path)\n",
        "\n",
        "def preprocess_image(image, scale_factor=3):\n",
        "    image = image.convert('RGB')\n",
        "    image = np.array(image).astype(np.float32) / 255.0\n",
        "    input_image = image[::scale_factor, ::scale_factor, :]  # Downsample by the scale factor\n",
        "    return input_image, image\n",
        "\n",
        "# Example to load and preprocess images\n",
        "image_paths = [\"path_to_image1.jpg\", \"path_to_image2.jpg\"]  # Replace with actual paths\n",
        "input_images = []\n",
        "target_images = []\n",
        "\n",
        "for path in image_paths:\n",
        "    input_img, target_img = preprocess_image(load_image(path))\n",
        "    input_images.append(input_img)\n",
        "    target_images.append(target_img)\n",
        "\n",
        "input_images = np.array(input_images)\n",
        "target_images = np.array(target_images)\n",
        "\n",
        "# Split the data\n",
        "x_train, x_test, y_train, y_test = train_test_split(input_images, target_images, test_size=0.2, random_state=42)"
      ],
      "metadata": {
        "id": "b_fACSv6qFuj"
      },
      "execution_count": null,
      "outputs": []
    },
    {
      "cell_type": "markdown",
      "source": [
        "##Creating The Model"
      ],
      "metadata": {
        "id": "0DBqRvtdqrCW"
      }
    },
    {
      "cell_type": "code",
      "source": [
        "def build_srcnn():\n",
        "    model = Sequential()\n",
        "    # First convolutional layer\n",
        "    model.add(Conv2D(filters=64, kernel_size=(9, 9), activation='relu', padding='same', input_shape=(None, None, 3)))\n",
        "    # Second convolutional layer\n",
        "    model.add(Conv2D(filters=32, kernel_size=(1, 1), activation='relu', padding='same'))\n",
        "    # Third convolutional layer\n",
        "    model.add(Conv2D(filters=3, kernel_size=(5, 5), activation='linear', padding='same'))\n",
        "    return model\n",
        "\n",
        "srcnn = build_srcnn()\n",
        "srcnn.compile(optimizer=Adam(learning_rate=0.0003), loss='mean_squared_error', metrics=['mean_squared_error'])"
      ],
      "metadata": {
        "id": "AL2eMZqtc8lv"
      },
      "execution_count": null,
      "outputs": []
    },
    {
      "cell_type": "markdown",
      "source": [
        "##Training & Evaluation"
      ],
      "metadata": {
        "id": "neJCwYcwdq6v"
      }
    },
    {
      "cell_type": "code",
      "source": [
        "history = srcnn.fit(x_train, y_train, epochs=100, batch_size=16, validation_data=(x_test, y_test))"
      ],
      "metadata": {
        "id": "9MR-dIoxdwjH"
      },
      "execution_count": null,
      "outputs": []
    },
    {
      "cell_type": "code",
      "source": [
        "loss, mse = srcnn.evaluate(x_test, y_test)\n",
        "print(f\"Test MSE: {mse}\")\n",
        "\n",
        "# Visualize the results\n",
        "def show_image(image):\n",
        "    plt.imshow(image)\n",
        "    plt.axis('off')\n",
        "    plt.show()\n",
        "\n",
        "# Predict and visualize\n",
        "sample_input = x_test[0]\n",
        "predicted_image = srcnn.predict(sample_input[np.newaxis, ...])\n",
        "show_image(sample_input)\n",
        "show_image(predicted_image[0])\n",
        "show_image(y_test[0])"
      ],
      "metadata": {
        "id": "8aZfQtTkdz7D"
      },
      "execution_count": null,
      "outputs": []
    }
  ]
}