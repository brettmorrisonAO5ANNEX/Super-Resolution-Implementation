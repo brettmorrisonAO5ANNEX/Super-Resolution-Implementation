{
  "nbformat": 4,
  "nbformat_minor": 0,
  "metadata": {
    "colab": {
      "provenance": [],
      "collapsed_sections": [
        "Cgp_5yYyqbAk"
      ],
      "gpuType": "T4",
      "authorship_tag": "ABX9TyPig/3C7uKzn0vg0/ImXaw/",
      "include_colab_link": true
    },
    "kernelspec": {
      "name": "python3",
      "display_name": "Python 3"
    },
    "language_info": {
      "name": "python"
    },
    "accelerator": "GPU"
  },
  "cells": [
    {
      "cell_type": "markdown",
      "metadata": {
        "id": "view-in-github",
        "colab_type": "text"
      },
      "source": [
        "<a href=\"https://colab.research.google.com/github/brettmorrisonAO5ANNEX/Super-Resolution-Implementation/blob/main/SRCNN_Test.ipynb\" target=\"_parent\"><img src=\"https://colab.research.google.com/assets/colab-badge.svg\" alt=\"Open In Colab\"/></a>"
      ]
    },
    {
      "cell_type": "code",
      "execution_count": 2,
      "metadata": {
        "id": "D3Mg4kofp5G0"
      },
      "outputs": [],
      "source": [
        "import numpy as np\n",
        "import matplotlib.pyplot as plt\n",
        "import tensorflow as tf\n",
        "from data import DIV2K"
      ]
    },
    {
      "cell_type": "markdown",
      "source": [
        "# Data Preprocessing"
      ],
      "metadata": {
        "id": "Cgp_5yYyqbAk"
      }
    },
    {
      "cell_type": "markdown",
      "source": [
        "## Load Training Data"
      ],
      "metadata": {
        "id": "3MclmlZTzW7T"
      }
    },
    {
      "cell_type": "code",
      "source": [
        "train_loader = DIV2K(scale=4,             # 2, 3, 4 or 8\n",
        "                     downgrade='bicubic', # 'bicubic', 'unknown', 'mild' or 'difficult'\n",
        "                     subset='train')      # Training dataset are images 001 - 800\n",
        "\n",
        "# Create a tf.data.Dataset\n",
        "train_ds = train_loader.dataset(batch_size=16,         # batch size as described in the EDSR and WDSR papers\n",
        "                                random_transform=True, # random crop, flip, rotate as described in the EDSR paper\n",
        "                                repeat_count=None)     # repeat iterating over training images indefinitely\n",
        "\n",
        "# Iterate over LR/HR image pairs\n",
        "# for lr, hr in train_ds:\n",
        "    # ...."
      ],
      "metadata": {
        "id": "b_fACSv6qFuj"
      },
      "execution_count": null,
      "outputs": []
    },
    {
      "cell_type": "markdown",
      "source": [
        "## Load Validation Data"
      ],
      "metadata": {
        "id": "Whxsoyb1zaLa"
      }
    },
    {
      "cell_type": "code",
      "source": [
        "valid_loader = DIV2K(scale=4,             # 2, 3, 4 or 8\n",
        "                     downgrade='bicubic', # 'bicubic', 'unknown', 'mild' or 'difficult'\n",
        "                     subset='valid')      # Validation dataset are images 801 - 900\n",
        "\n",
        "# Create a tf.data.Dataset\n",
        "valid_ds = valid_loader.dataset(batch_size=1,           # use batch size of 1 as DIV2K images have different size\n",
        "                                random_transform=False, # use DIV2K images in original size\n",
        "                                repeat_count=1)         # 1 epoch\n",
        "\n",
        "# Iterate over LR/HR image pairs\n",
        "# for lr, hr in valid_ds:\n",
        "    # ...."
      ],
      "metadata": {
        "id": "1CemI-uhzeJt"
      },
      "execution_count": null,
      "outputs": []
    },
    {
      "cell_type": "markdown",
      "source": [
        "# Creating The Model"
      ],
      "metadata": {
        "id": "0DBqRvtdqrCW"
      }
    },
    {
      "cell_type": "code",
      "source": [
        "# TODO"
      ],
      "metadata": {
        "id": "AL2eMZqtc8lv"
      },
      "execution_count": null,
      "outputs": []
    },
    {
      "cell_type": "markdown",
      "source": [
        "# Training & Evaluation"
      ],
      "metadata": {
        "id": "neJCwYcwdq6v"
      }
    },
    {
      "cell_type": "code",
      "source": [
        "# TODO"
      ],
      "metadata": {
        "id": "8aZfQtTkdz7D"
      },
      "execution_count": null,
      "outputs": []
    }
  ]
}